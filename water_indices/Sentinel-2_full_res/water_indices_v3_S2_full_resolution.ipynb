{
 "cells": [
  {
   "cell_type": "markdown",
   "metadata": {},
   "source": [
    "# Water Indices - Sentinel-2 Full Resolution\n",
    "\n",
    "This notebook examines how well water indices like NDWI can detect flooding - specifically in Dakar. The default resolution is 10m (-0.00009, 0.00009), but can be changed. Sentinel-2 has the highest resolution of the datasets used here: 10m for the red, green, blue, and nir bands and 20m for all other data.\n",
    "\n",
    "The hope is that a higher resolution than 30m (as is used in the [Water Indices notebook](../water_inds.ipynb)) may allow these water indicies to detect the flooding.\n",
    "\n",
    "Images are exported to an `images` directory within this directory.\n",
    "\n",
    "The only image created is `haz_map_water_median_minus_median_fig.png` which shows the hazard map and the differences between the medians of the water indicies for the flood dates and the medians of the corresponding water indicies from 2009-2019.\n",
    "\n",
    "# Index\n",
    "\n",
    "* Import dependencies, setup Dask client, and connect to the data cube\n",
    "* Load flood hazard data from World Bank\n",
    "* Show area to load data for\n",
    "* Load geospatial data\n",
    "    * Sentinel-2\n",
    "* Merge data\n",
    "* Mask out the ocean and lakes and obtain the flood hazard map as an xarray\n",
    "* Show medians of flood dates water indices minus medians for 2009-2019"
   ]
  },
  {
   "cell_type": "markdown",
   "metadata": {},
   "source": [
    "## Import dependencies, setup Dask client, and connect to the data cube"
   ]
  },
  {
   "cell_type": "code",
   "execution_count": 2,
   "metadata": {},
   "outputs": [],
   "source": [
    "from collections import ChainMap\n",
    "\n",
    "import matplotlib.pyplot as plt\n",
    "import geopandas as gpd\n",
    "import xarray as xr\n",
    "import pandas as pd\n",
    "import numpy as np\n",
    "import joblib\n",
    "import os\n",
    "\n",
    "import sys\n",
    "sys.path.append('../..')\n",
    "from utils.ceos_utils.dc_display_map import display_map\n",
    "from utils.deafrica_utils.deafrica_bandindices import \\\n",
    "    calculate_indices\n",
    "from utils.deafrica_utils.deafrica_datahandling import load_ard\n",
    "\n",
    "import datacube\n",
    "dc = datacube.Datacube()"
   ]
  },
  {
   "cell_type": "code",
   "execution_count": 3,
   "metadata": {},
   "outputs": [],
   "source": [
    "# from utils.ceos_utils.dask import create_local_dask_cluster\n",
    "# client = create_local_dask_cluster()"
   ]
  },
  {
   "cell_type": "code",
   "execution_count": 64,
   "metadata": {},
   "outputs": [
    {
     "data": {
      "text/html": [
       "<table style=\"border: 2px solid white;\">\n",
       "<tr>\n",
       "<td style=\"vertical-align: top; border: 0px solid white\">\n",
       "<h3 style=\"text-align: left;\">Client</h3>\n",
       "<ul style=\"text-align: left; list-style: none; margin: 0; padding: 0;\">\n",
       "  <li><b>Scheduler: </b>tcp://127.0.0.1:46759</li>\n",
       "  <li><b>Dashboard: </b><a href='/user/jcrattz/proxy/34655/status' target='_blank'>/user/jcrattz/proxy/34655/status</a></li>\n",
       "</ul>\n",
       "</td>\n",
       "<td style=\"vertical-align: top; border: 0px solid white\">\n",
       "<h3 style=\"text-align: left;\">Cluster</h3>\n",
       "<ul style=\"text-align: left; list-style:none; margin: 0; padding: 0;\">\n",
       "  <li><b>Workers: </b>31</li>\n",
       "  <li><b>Cores: </b>62</li>\n",
       "  <li><b>Memory: </b>515.40 GB</li>\n",
       "</ul>\n",
       "</td>\n",
       "</tr>\n",
       "</table>"
      ],
      "text/plain": [
       "<Client: 'tcp://127.0.0.1:46759' processes=31 threads=62, memory=515.40 GB>"
      ]
     },
     "execution_count": 64,
     "metadata": {},
     "output_type": "execute_result"
    }
   ],
   "source": [
    "from dask.distributed import Client\n",
    "\n",
    "client = Client(\"tcp://127.0.0.1:46759\")\n",
    "client"
   ]
  },
  {
   "cell_type": "markdown",
   "metadata": {},
   "source": [
    "## Load flood hazard data from World Bank"
   ]
  },
  {
   "cell_type": "code",
   "execution_count": 65,
   "metadata": {},
   "outputs": [],
   "source": [
    "dakar_flood_hazard = gpd.read_file('../../floodareas/eo4sd_dakar_fhazard_2018/EO4SD_DAKAR_FHAZARD_2018.shp')"
   ]
  },
  {
   "cell_type": "markdown",
   "metadata": {},
   "source": [
    "**Remove records with no geometry data**"
   ]
  },
  {
   "cell_type": "code",
   "execution_count": 66,
   "metadata": {},
   "outputs": [],
   "source": [
    "dakar_flood_hazard = dakar_flood_hazard[[dakar_flood_hazard.geometry[i] is not None for i in range(len(dakar_flood_hazard))]]"
   ]
  },
  {
   "cell_type": "markdown",
   "metadata": {},
   "source": [
    "**Change the CRS to EPSG:4326**"
   ]
  },
  {
   "cell_type": "code",
   "execution_count": 67,
   "metadata": {},
   "outputs": [],
   "source": [
    "dakar_flood_hazard = dakar_flood_hazard.to_crs(\"EPSG:4326\")"
   ]
  },
  {
   "cell_type": "markdown",
   "metadata": {},
   "source": [
    "**Get the bounding box of the data**"
   ]
  },
  {
   "cell_type": "code",
   "execution_count": 68,
   "metadata": {},
   "outputs": [],
   "source": [
    "dakar_bounds = dakar_flood_hazard.bounds\n",
    "min_lon = dakar_bounds.minx.min()\n",
    "max_lon = dakar_bounds.maxx.max()\n",
    "min_lat = dakar_bounds.miny.min()\n",
    "max_lat = dakar_bounds.maxy.max()\n",
    "lat = (min_lat, max_lat)\n",
    "lon = (min_lon, max_lon)"
   ]
  },
  {
   "cell_type": "markdown",
   "metadata": {},
   "source": [
    "## Show area to load data for"
   ]
  },
  {
   "cell_type": "code",
   "execution_count": 69,
   "metadata": {},
   "outputs": [],
   "source": [
    "## Dakar, Senegal\n",
    "# Small test\n",
    "# lat = (14.8270, 14.8422)\n",
    "# lon = (-17.2576, -17.2172)\n",
    "# Citizen Science Study Area\n",
    "# lat = (14.7711, 14.7993)\n",
    "# lon = (-17.3706, -17.3366)\n",
    "# Tip\n",
    "# lat = (14.6433, 14.7892)\n",
    "# lon = (-17.5408, -17.4158)\n",
    "# Full\n",
    "lat = (14.6285, 14.8725)\n",
    "lon = (-17.5348, -17.2068)\n",
    "\n",
    "## Coast of Sengal\n",
    "# North\n",
    "# lat = (14.3559, 16.0974)\n",
    "# lon = (-17.5683, -16.4543)\n",
    "# Full\n",
    "# lat = (12.3016, 16.1810)\n",
    "# lon = (-17.8198, -16.3257)"
   ]
  },
  {
   "cell_type": "code",
   "execution_count": 70,
   "metadata": {},
   "outputs": [
    {
     "data": {
      "text/html": [
       "<div style=\"width:100%;\"><div style=\"position:relative;width:100%;height:0;padding-bottom:60%;\"><iframe src=\"data:text/html;charset=utf-8;base64,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\" style=\"position:absolute;width:100%;height:100%;left:0;top:0;border:none !important;\" allowfullscreen webkitallowfullscreen mozallowfullscreen></iframe></div></div>"
      ],
      "text/plain": [
       "<folium.folium.Map at 0x7f5b198eec18>"
      ]
     },
     "execution_count": 70,
     "metadata": {},
     "output_type": "execute_result"
    }
   ],
   "source": [
    "display_map(lat, lon)"
   ]
  },
  {
   "cell_type": "markdown",
   "metadata": {},
   "source": [
    "## Load geospatial data"
   ]
  },
  {
   "cell_type": "markdown",
   "metadata": {},
   "source": [
    "**Specify time range and common load parameters**"
   ]
  },
  {
   "cell_type": "code",
   "execution_count": 71,
   "metadata": {},
   "outputs": [],
   "source": [
    "years = range(2009, 2020) # (inclusive, exclusive)\n",
    "time_range = [f\"{years[0]}-01-01\", f\"{years[-1]}-12-31\"]\n",
    "\n",
    "### Flood Times ###\n",
    "\n",
    "## EO4SD Hazard Map Flood Times ##\n",
    "\n",
    "# Actual times are these. Ranges we choose for this list (`eo4sd_hazard_map_time_ranges`)\n",
    "# are to get more data where some may be missing.\n",
    "# Landsat 5: [2009-10-22, 2010-10-25, 2011-10-12]\n",
    "# Landsat 8: [2013-10-01, 2014-11-21, 2015-11-08]\n",
    "# Sentinel-2: [2016-10-30, 2017-10-10, 2018-10-15]\n",
    "eo4sd_hazard_map_times = np.array([\n",
    "    \"2009-10-22\", \"2010-10-25\", \"2011-10-12\",\n",
    "    \"2013-10-01\", \"2014-11-21\", \"2015-11-08\",\n",
    "    \"2016-10-30\", \"2017-10-10\", \"2018-10-15\"\n",
    "])\n",
    "\n",
    "eo4sd_hazard_map_time_ranges = \\\n",
    "[(\"2009-10-21\", \"2009-10-24\"), (\"2010-10-24\", \"2010-10-27\"),\n",
    " (\"2011-10-11\", \"2011-10-14\"), (\"2013-09-30\", \"2013-10-03\"),\n",
    " (\"2014-11-20\", \"2014-11-23\"), (\"2015-11-07\", \"2015-11-10\"),\n",
    " (\"2016-10-29\", \"2016-11-01\"), (\"2017-10-09\", \"2017-10-13\"),\n",
    " (\"2018-10-14\", \"2018-10-17\")]\n",
    "# [(\"2009-10-22\", \"2009-10-23\"), (\"2010-10-25\", \"2010-10-26\"),\n",
    "#  (\"2011-10-12\", \"2011-10-13\"), (\"2013-10-01\", \"2013-10-02\"),\n",
    "#  (\"2014-11-21\", \"2014-11-22\"), (\"2015-11-08\", \"2015-11-09\"),\n",
    "#  (\"2016-10-30\", \"2016-11-01\"), (\"2017-10-10\", \"2017-10-13\"),\n",
    "#  (\"2018-10-15\", \"2018-10-16\")]\n",
    "\n",
    "## End EO4SD Hazard Map Flood Times ##\n",
    "\n",
    "## Citizen Science Data Times ##\n",
    "\n",
    "cit_sci_times = \\\n",
    "[]\n",
    "# [(\"2009-03-01\", \"2009-03-30\"), (\"2009-10-11\", \"2009-10-18\"),\n",
    "#  (\"2012-03-01\", \"2012-03-15\"), (\"2012-08-01\", \"2012-09-30\")]\n",
    "\n",
    "## End Citizen Science Data Times ##\n",
    "\n",
    "time_ranges_floods = sorted(eo4sd_hazard_map_time_ranges + cit_sci_times)\n",
    "\n",
    "### End Flood Times ###\n",
    "\n",
    "common_load_params = \\\n",
    "    dict(output_crs=\"EPSG:4326\",\n",
    "         # 10m resolution for Sentinel-2 red, green, blue, nir bands\n",
    "         resolution=(-0.00009,0.00009),\n",
    "         latitude=lat, longitude=lon,\n",
    "         group_by='solar_day',\n",
    "         dask_chunks={'time':40, \n",
    "                      'latitude':2000, \n",
    "                      'longitude':2000})"
   ]
  },
  {
   "cell_type": "markdown",
   "metadata": {},
   "source": [
    "### Sentinel-2"
   ]
  },
  {
   "cell_type": "code",
   "execution_count": 76,
   "metadata": {},
   "outputs": [
    {
     "name": "stdout",
     "output_type": "stream",
     "text": [
      "Using pixel quality parameters for Sentinel 2\n",
      "Finding datasets\n",
      "    s2_l2a\n",
      "Applying pixel quality/cloud mask\n",
      "Returning 199 time steps as a dask array\n"
     ]
    }
   ],
   "source": [
    "s2_data = load_ard(dc=dc, products=['s2_l2a'], \n",
    "                       measurements=[\n",
    "                           'blue', 'green', 'red', 'nir', 'swir_1', 'swir_2'],\n",
    "                       time=time_range,\n",
    "                       **common_load_params)\n",
    "s2_water_data = []\n",
    "s2_water_median = []\n",
    "water_inds = ['NDWI', 'AWEI_sh', 'AWEI_ns', 'MNDWI', 'TCW']\n",
    "for water_ind in water_inds:\n",
    "    s2_water_ind_data = calculate_indices(s2_data, index=water_ind, collection='s2')[water_ind]\n",
    "    s2_water_data.append(s2_water_ind_data)\n",
    "    s2_water_median.append(s2_water_ind_data.median('time'))\n",
    "s2_water_data = xr.merge(s2_water_data)\n",
    "s2_water_median = xr.merge(s2_water_median)\n",
    "\n",
    "s2_water_floods = xr.concat([s2_water_data.sel(time=slice(*time_range_flood)) for time_range_flood in time_ranges_floods], dim='time')\n",
    "s2_water_floods_median_minus_median = (s2_water_floods.median('time') - \\\n",
    "                                       s2_water_median).persist()"
   ]
  },
  {
   "cell_type": "markdown",
   "metadata": {},
   "source": [
    "## Merge data"
   ]
  },
  {
   "cell_type": "markdown",
   "metadata": {},
   "source": [
    "**Median of water indices for flood dates minus medians for 2009 - 2019**"
   ]
  },
  {
   "cell_type": "code",
   "execution_count": 77,
   "metadata": {},
   "outputs": [],
   "source": [
    "water_floods_median_minus_median = \\\n",
    "    s2_water_floods_median_minus_median.compute()"
   ]
  },
  {
   "cell_type": "markdown",
   "metadata": {},
   "source": [
    "**Water for flood dates**"
   ]
  },
  {
   "cell_type": "code",
   "execution_count": 78,
   "metadata": {},
   "outputs": [],
   "source": [
    "water_floods = s2_water_floods.compute()"
   ]
  },
  {
   "cell_type": "markdown",
   "metadata": {},
   "source": [
    "## Mask out the ocean and lakes and obtain the flood hazard map as an xarray"
   ]
  },
  {
   "cell_type": "code",
   "execution_count": 79,
   "metadata": {},
   "outputs": [],
   "source": [
    "s2_land_mask = s2_water_floods.NDWI.mean('time') < 0.05"
   ]
  },
  {
   "cell_type": "code",
   "execution_count": 80,
   "metadata": {},
   "outputs": [
    {
     "name": "stdout",
     "output_type": "stream",
     "text": [
      "Rasterizing to match xarray.DataArray dimensions (2712, 3646)\n",
      "Rasterizing to match xarray.DataArray dimensions (2712, 3646)\n",
      "Rasterizing to match xarray.DataArray dimensions (2712, 3646)\n",
      "Rasterizing to match xarray.DataArray dimensions (2712, 3646)\n"
     ]
    }
   ],
   "source": [
    "from utils.deafrica_utils.deafrica_spatialtools import xr_rasterize\n",
    "\n",
    "flood_hazard_enc = {0:'No Risk', 1:'Low Risk', 2:'Medium Risk', 3:'High Risk'}\n",
    "flood_hazard_masks = \\\n",
    "{0: xr_rasterize(dakar_flood_hazard[dakar_flood_hazard['RISKCODE_H']==0], \n",
    "                 water_floods).astype(np.bool).where(s2_land_mask, False),\n",
    " 1: xr_rasterize(dakar_flood_hazard[dakar_flood_hazard['RISKCODE_H']==1], \n",
    "                 water_floods).astype(np.bool).where(s2_land_mask, False),\n",
    " 2: xr_rasterize(dakar_flood_hazard[dakar_flood_hazard['RISKCODE_H']==2], \n",
    "                 water_floods).astype(np.bool).where(s2_land_mask, False),\n",
    " 3: xr_rasterize(dakar_flood_hazard[dakar_flood_hazard['RISKCODE_H']==3], \n",
    "                 water_floods).astype(np.bool).where(s2_land_mask, False)}"
   ]
  },
  {
   "cell_type": "code",
   "execution_count": 81,
   "metadata": {},
   "outputs": [],
   "source": [
    "flood_hazard_map = None\n",
    "for val, mask in flood_hazard_masks.items():\n",
    "    if flood_hazard_map is None:\n",
    "        flood_hazard_map = xr.full_like(mask, val)\n",
    "    else:\n",
    "        flood_hazard_map = flood_hazard_map.where(~mask, val)\n",
    "flood_hazard_map = flood_hazard_map.where(s2_land_mask)"
   ]
  },
  {
   "cell_type": "markdown",
   "metadata": {},
   "source": [
    "## Show medians of flood dates water indices minus medians for 2009-2019"
   ]
  },
  {
   "cell_type": "code",
   "execution_count": 82,
   "metadata": {},
   "outputs": [],
   "source": [
    "import matplotlib as mpl\n",
    "mpl.rcParams['figure.dpi'] = 400"
   ]
  },
  {
   "cell_type": "code",
   "execution_count": 90,
   "metadata": {},
   "outputs": [],
   "source": [
    "def create_flood_date_figs_agg(dataset, base_file_name, agg='mean'):\n",
    "    assert agg in ['mean', 'median'], \"The variable agg must be one of ['mean', 'median']\"\n",
    "    \n",
    "    nrows = 2\n",
    "    ncols = 1 + int(np.floor(len(dataset.data_vars)/nrows))\n",
    "    \n",
    "    fig, ax = plt.subplots(nrows, ncols, figsize=(7*ncols, 5*nrows))\n",
    "    \n",
    "    current_ax = ax[0,0]\n",
    "    flood_hazard_map.plot.imshow(ax=current_ax)\n",
    "    current_ax.set_title(f'Given Flood Hazard Map')\n",
    "    for data_var_ind, data_var in enumerate(dataset.data_vars):\n",
    "        vmin = 0\n",
    "        vmax = dataset[data_var].quantile(0.95).values\n",
    "        current_ax = ax[int((data_var_ind+1)/ncols), ((data_var_ind+1)%ncols)]\n",
    "        dataset[data_var].where(s2_land_mask).plot.imshow(ax=current_ax, cmap='Blues', vmin=vmin, vmax=vmax)\n",
    "        current_ax.set_title(f'{agg.capitalize()} of flood dates {data_var} - minus median')\n",
    "    plt.tight_layout()\n",
    "    if not os.path.exists('images'):\n",
    "        os.mkdir('images')\n",
    "    plt.savefig(f'images/{base_file_name}.png')\n",
    "    plt.clf()\n",
    "    return None"
   ]
  },
  {
   "cell_type": "code",
   "execution_count": 91,
   "metadata": {},
   "outputs": [
    {
     "data": {
      "text/plain": [
       "<Figure size 8400x4000 with 0 Axes>"
      ]
     },
     "metadata": {},
     "output_type": "display_data"
    }
   ],
   "source": [
    "create_flood_date_figs_agg(water_floods_median_minus_median, \n",
    "                               f'haz_map_water_median_minus_median_fig', \n",
    "                               agg='median')"
   ]
  }
 ],
 "metadata": {
  "kernelspec": {
   "display_name": "Python 3",
   "language": "python",
   "name": "python3"
  },
  "language_info": {
   "codemirror_mode": {
    "name": "ipython",
    "version": 3
   },
   "file_extension": ".py",
   "mimetype": "text/x-python",
   "name": "python",
   "nbconvert_exporter": "python",
   "pygments_lexer": "ipython3",
   "version": "3.6.9"
  }
 },
 "nbformat": 4,
 "nbformat_minor": 4
}
