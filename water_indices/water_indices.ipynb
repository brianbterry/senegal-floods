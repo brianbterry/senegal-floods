{
 "cells": [
  {
   "cell_type": "markdown",
   "metadata": {},
   "source": [
    "# Water Indices\n",
    "\n",
    "This notebook examines how well water indices like NDWI can detect flooding - specifically in Dakar. The default resolution is 30m (-0.00027, 0.00027), but can be changed. Sentinel-2 has the highest resolution of the datasets used here: 10m for the red, green, blue, and nir bands and 20m for all other data.\n",
    "\n",
    "Images are exported to an `images` directory within this directory.\n",
    "\n",
    "For each flood date (of 9), there is 1 image of the RGB and water indices for that date as well as 1 image of the rgb and differences between the water indicies for that date and the medians of the corresponding water indicies from 2009-2019. (18 images)\n",
    "\n",
    "There is also an image called `haz_map_water_median_minus_median_fig.png` which shows the hazard map and the differences between the medians of the water indicies for the flood dates and the medians of the corresponding water indicies from 2009-2019.\n",
    "\n",
    "The water indicies used were: WOfS (Water Observations from Space), NDWI, MNDWI, AWEI_ns, and AWEI_sh. These are explained below:\n",
    "* WOfS: Typically detects large and reasonably deep bodies of water well. Used primarily for comparison.\n",
    "* NDWI: Particularly useful for detecting plant water content. Used primarily for comparison.\n",
    "* AWEI_ns: Intended to be more robust to environmental noise than other water indices like NDWI.\n",
    "* AWEI_sh: Like AWEI_ns, but better corrects for shadows.\n",
    "\n",
    "# Index\n",
    "\n",
    "* Import dependencies, setup Dask client, and connect to the data cube\n",
    "* Load flood hazard data from World Bank\n",
    "* Show area to load data for\n",
    "* Load geospatial data\n",
    "    * Landsat\n",
    "        * WOfS\n",
    "        * Landsat 5\n",
    "        * Landsat 8\n",
    "    * Sentinel-2\n",
    "* Merge data\n",
    "* Mask out the ocean and lakes and obtain the flood hazard map as an xarray\n",
    "* Show RGB and water indices for flood dates\n",
    "* Show RGB and the difference of water indices for flood dates from their medians for the selected years\n",
    "* Show medians of flood dates water indices minus medians for 2009-2019"
   ]
  },
  {
   "cell_type": "markdown",
   "metadata": {},
   "source": [
    "## Import dependencies, setup Dask client, and connect to the data cube"
   ]
  },
  {
   "cell_type": "code",
   "execution_count": 2,
   "metadata": {},
   "outputs": [],
   "source": [
    "from collections import ChainMap\n",
    "\n",
    "import matplotlib.pyplot as plt\n",
    "import geopandas as gpd\n",
    "import xarray as xr\n",
    "import pandas as pd\n",
    "import numpy as np\n",
    "import joblib\n",
    "import os\n",
    "\n",
    "import sys\n",
    "sys.path.append('..')\n",
    "from utils.ceos_utils.dc_display_map import display_map\n",
    "from utils.deafrica_utils.deafrica_bandindices import \\\n",
    "    calculate_indices\n",
    "from utils.deafrica_utils.deafrica_datahandling import load_ard\n",
    "\n",
    "import datacube\n",
    "dc = datacube.Datacube()"
   ]
  },
  {
   "cell_type": "code",
   "execution_count": 3,
   "metadata": {},
   "outputs": [],
   "source": [
    "from utils.ceos_utils.dask import create_local_dask_cluster\n",
    "client = create_local_dask_cluster()"
   ]
  },
  {
   "cell_type": "markdown",
   "metadata": {},
   "source": [
    "## Load flood hazard data from World Bank"
   ]
  },
  {
   "cell_type": "code",
   "execution_count": 4,
   "metadata": {},
   "outputs": [],
   "source": [
    "dakar_flood_hazard = gpd.read_file('../floodareas/eo4sd_dakar_fhazard_2018/EO4SD_DAKAR_FHAZARD_2018.shp')"
   ]
  },
  {
   "cell_type": "markdown",
   "metadata": {},
   "source": [
    "**Remove records with no geometry data**"
   ]
  },
  {
   "cell_type": "code",
   "execution_count": 5,
   "metadata": {},
   "outputs": [],
   "source": [
    "dakar_flood_hazard = dakar_flood_hazard[[dakar_flood_hazard.geometry[i] is not None for i in range(len(dakar_flood_hazard))]]"
   ]
  },
  {
   "cell_type": "markdown",
   "metadata": {},
   "source": [
    "**Change the CRS to EPSG:4326**"
   ]
  },
  {
   "cell_type": "code",
   "execution_count": 6,
   "metadata": {},
   "outputs": [],
   "source": [
    "dakar_flood_hazard = dakar_flood_hazard.to_crs(\"EPSG:4326\")"
   ]
  },
  {
   "cell_type": "markdown",
   "metadata": {},
   "source": [
    "**Get the bounding box of the data**"
   ]
  },
  {
   "cell_type": "code",
   "execution_count": 7,
   "metadata": {},
   "outputs": [],
   "source": [
    "dakar_bounds = dakar_flood_hazard.bounds\n",
    "min_lon = dakar_bounds.minx.min()\n",
    "max_lon = dakar_bounds.maxx.max()\n",
    "min_lat = dakar_bounds.miny.min()\n",
    "max_lat = dakar_bounds.maxy.max()\n",
    "lat = (min_lat, max_lat)\n",
    "lon = (min_lon, max_lon)"
   ]
  },
  {
   "cell_type": "markdown",
   "metadata": {},
   "source": [
    "## Show area to load data for"
   ]
  },
  {
   "cell_type": "code",
   "execution_count": 8,
   "metadata": {},
   "outputs": [],
   "source": [
    "## Dakar, Senegal\n",
    "# Small test\n",
    "# lat = (14.8270, 14.8422)\n",
    "# lon = (-17.2576, -17.2172)\n",
    "# Citizen Science Study Area\n",
    "lat = (14.7711, 14.7993)\n",
    "lon = (-17.3706, -17.3366)\n",
    "# Tip\n",
    "# lat = (14.6433, 14.7892)\n",
    "# lon = (-17.5408, -17.4158)\n",
    "# Full\n",
    "# lat = (14.6285, 14.8725)\n",
    "# lon = (-17.5348, -17.2068)\n",
    "\n",
    "## Coast of Sengal\n",
    "# North\n",
    "# lat = (14.3559, 16.0974)\n",
    "# lon = (-17.5683, -16.4543)\n",
    "# Full\n",
    "# lat = (12.3016, 16.1810)\n",
    "# lon = (-17.8198, -16.3257)"
   ]
  },
  {
   "cell_type": "code",
   "execution_count": 9,
   "metadata": {},
   "outputs": [
    {
     "data": {
      "text/html": [
       "<div style=\"width:100%;\"><div style=\"position:relative;width:100%;height:0;padding-bottom:60%;\"><iframe src=\"data:text/html;charset=utf-8;base64,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\" style=\"position:absolute;width:100%;height:100%;left:0;top:0;border:none !important;\" allowfullscreen webkitallowfullscreen mozallowfullscreen></iframe></div></div>"
      ],
      "text/plain": [
       "<folium.folium.Map at 0x7fd2054b48d0>"
      ]
     },
     "execution_count": 9,
     "metadata": {},
     "output_type": "execute_result"
    }
   ],
   "source": [
    "display_map(lat, lon)"
   ]
  },
  {
   "cell_type": "markdown",
   "metadata": {},
   "source": [
    "## Load geospatial data"
   ]
  },
  {
   "cell_type": "markdown",
   "metadata": {},
   "source": [
    "**Specify time range and common load parameters**"
   ]
  },
  {
   "cell_type": "code",
   "execution_count": 10,
   "metadata": {},
   "outputs": [],
   "source": [
    "years = range(2009, 2020) # (inclusive, exclusive)\n",
    "time_range = [f\"{years[0]}-01-01\", f\"{years[-1]}-12-31\"]\n",
    "# time_ranges = [(f\"{year}-01-01\", f\"{year}-12-31\") for year in years]\n",
    "\n",
    "### Flood Times ###\n",
    "\n",
    "## EO4SD Hazard Map Flood Times ##\n",
    "\n",
    "# Actual times are these (ranges we choose for this list \n",
    "# are to get more data where some may be missing):\n",
    "# Landsat 5: [2009-10-22, 2010-10-25, 2011-10-12]\n",
    "# Landsat 8: [2013-10-01, 2014-11-21, 2015-11-08]\n",
    "# Sentinel-2: [2016-10-30, 2017-10-10, 2018-10-15]\n",
    "eo4sd_hazard_map_times = np.array([\n",
    "    \"2009-10-22\", \"2010-10-25\", \"2011-10-12\",\n",
    "    \"2013-10-01\", \"2014-11-21\", \"2015-11-08\",\n",
    "    \"2016-10-30\", \"2017-10-10\", \"2018-10-15\"\n",
    "])\n",
    "\n",
    "eo4sd_hazard_map_time_ranges = \\\n",
    "[(\"2009-10-21\", \"2009-10-24\"), (\"2010-10-24\", \"2010-10-27\"),\n",
    " (\"2011-10-11\", \"2011-10-14\"), (\"2013-09-30\", \"2013-10-03\"),\n",
    " (\"2014-11-20\", \"2014-11-23\"), (\"2015-11-07\", \"2015-11-10\"),\n",
    " (\"2016-10-29\", \"2016-11-01\"), (\"2017-10-09\", \"2017-10-13\"),\n",
    " (\"2018-10-14\", \"2018-10-17\")]\n",
    "\n",
    "## End EO4SD Hazard Map Flood Times ##\n",
    "\n",
    "## Citizen Science Data Times ##\n",
    "\n",
    "cit_sci_times = \\\n",
    "[]\n",
    "# [(\"2009-03-01\", \"2009-03-30\"), (\"2009-10-11\", \"2009-10-18\"),\n",
    "#  (\"2012-03-01\", \"2012-03-15\"), (\"2012-08-01\", \"2012-09-30\")]\n",
    "\n",
    "## End Citizen Science Data Times ##\n",
    "\n",
    "time_ranges_floods = sorted(eo4sd_hazard_map_time_ranges + cit_sci_times)\n",
    "\n",
    "### End Flood Times ###\n",
    "\n",
    "common_load_params = \\\n",
    "    dict(output_crs=\"EPSG:4326\",\n",
    "         resolution=(-0.00027,0.00027),\n",
    "         latitude=lat, longitude=lon,\n",
    "         group_by='solar_day',\n",
    "         dask_chunks={'time':40, \n",
    "                      'latitude':2000, \n",
    "                      'longitude':2000})"
   ]
  },
  {
   "cell_type": "markdown",
   "metadata": {},
   "source": [
    "### Landsat"
   ]
  },
  {
   "cell_type": "markdown",
   "metadata": {},
   "source": [
    ">### WOfS"
   ]
  },
  {
   "cell_type": "code",
   "execution_count": 11,
   "metadata": {},
   "outputs": [],
   "source": [
    "from utils.ceos_utils.dc_load import is_dataset_empty\n",
    "\n",
    "ls_water_wofs_data = dc.load(product='ga_ls8c_wofs_2', \n",
    "               measurements=['water'], \n",
    "               time=time_range,\n",
    "               **common_load_params).persist()\n",
    "assert not is_dataset_empty(ls_water_wofs_data), f\"There is no WOfS data for time range {time_range}\"\n",
    "\n",
    "# Formatting water data #\n",
    "# bit 7 indicates water, bit 2 indicates sea.\n",
    "ls_water_cls = (ls_water_wofs_data.water&0b10000010)!=0\n",
    "# Set no_data (missing) values to NaN.\n",
    "ls_water_cls = \\\n",
    "    ls_water_cls.where(ls_water_wofs_data.water!=1)\n",
    "del ls_water_wofs_data # Save memory\n",
    "ls_water_wofs = ls_water_cls.rename('WOfS')\n",
    "# End formatting water data #\n",
    "\n",
    "ls_water_wofs_median = ls_water_wofs.median('time').persist()\n",
    "ls_water_wofs_floods = xr.concat([ls_water_wofs.sel(time=slice(*time_range_flood)) for time_range_flood in time_ranges_floods], dim='time').persist()\n",
    "ls_water_wofs_floods_minus_median = (ls_water_wofs_floods - ls_water_wofs_median).persist()\n",
    "ls_water_wofs_floods_median_minus_median = (ls_water_wofs_floods.median('time') - \\\n",
    "                                            ls_water_wofs_median).persist()\n",
    "del ls_water_wofs_median # Save memory"
   ]
  },
  {
   "cell_type": "markdown",
   "metadata": {},
   "source": [
    ">### Landsat 5"
   ]
  },
  {
   "cell_type": "code",
   "execution_count": 32,
   "metadata": {},
   "outputs": [
    {
     "name": "stdout",
     "output_type": "stream",
     "text": [
      "Using pixel quality parameters for USGS Collection 1\n",
      "Finding datasets\n",
      "    ls5_usgs_sr_scene\n",
      "Applying pixel quality/cloud mask\n",
      "Returning 35 time steps as a dask array\n"
     ]
    }
   ],
   "source": [
    "ls5_data = load_ard(dc=dc, products=['ls5_usgs_sr_scene'], \n",
    "                       measurements=['blue', 'green', 'red', 'nir', 'swir1', 'swir2'], \n",
    "                       time=time_range,\n",
    "                       **common_load_params)\n",
    "ls5_data_water_inds = ls5_data\n",
    "ls5_water_median = []\n",
    "water_inds = ['NDWI', 'AWEI_sh', 'AWEI_ns', 'MNDWI']\n",
    "for water_ind in water_inds:\n",
    "    ls5_water_ind_data = calculate_indices(ls5_data, index=water_ind, collection='c1')[water_ind]\n",
    "    ls5_data_water_inds[water_ind] = ls5_water_ind_data\n",
    "    ls5_water_median.append(ls5_water_ind_data.median('time'))\n",
    "ls5_water_median = xr.merge(ls5_water_median)\n",
    "\n",
    "ls5_floods = xr.concat([ls5_data_water_inds.sel(time=slice(*time_range_flood)) for time_range_flood in time_ranges_floods], dim='time')\n",
    "ls5_water_floods = ls5_floods[water_inds]\n",
    "ls5_water_floods_minus_median = (ls5_water_floods - ls5_water_median).persist()\n",
    "ls5_water_floods_median_minus_median = (ls5_floods[water_inds].median('time') - \\\n",
    "                                        ls5_water_median).persist()\n",
    "\n",
    "ls5_rgb_floods = ls5_floods[['red', 'green', 'blue']].persist()"
   ]
  },
  {
   "cell_type": "markdown",
   "metadata": {},
   "source": [
    ">### Landsat 8"
   ]
  },
  {
   "cell_type": "code",
   "execution_count": 42,
   "metadata": {},
   "outputs": [
    {
     "name": "stdout",
     "output_type": "stream",
     "text": [
      "Using pixel quality parameters for USGS Collection 1\n",
      "Finding datasets\n",
      "    ls8_usgs_sr_scene\n",
      "Applying pixel quality/cloud mask\n",
      "Returning 265 time steps as a dask array\n"
     ]
    }
   ],
   "source": [
    "ls8_data = load_ard(dc=dc, products=['ls8_usgs_sr_scene'], \n",
    "                       measurements=['blue', 'green', 'red', 'nir', 'swir1', 'swir2'], \n",
    "                       time=time_range,\n",
    "                       **common_load_params).persist()\n",
    "ls8_data_water_inds = ls8_data\n",
    "ls8_water_median = []\n",
    "water_inds = ['NDWI', 'AWEI_sh', 'AWEI_ns', 'MNDWI']\n",
    "for water_ind in water_inds:\n",
    "    ls8_water_ind_data = calculate_indices(ls8_data, index=water_ind, collection='c1')[water_ind]\n",
    "    ls8_data_water_inds[water_ind] = ls8_water_ind_data\n",
    "    ls8_water_median.append(ls8_water_ind_data.median('time'))\n",
    "ls8_water_median = xr.merge(ls8_water_median)\n",
    "\n",
    "ls8_floods = xr.concat([ls8_data_water_inds.sel(time=slice(*time_range_flood)) for time_range_flood in time_ranges_floods], dim='time')\n",
    "ls8_water_floods = ls8_floods[water_inds]\n",
    "ls8_water_floods_minus_median = (ls8_water_floods - ls8_water_median).persist()\n",
    "ls8_water_floods_median_minus_median = (ls8_floods[water_inds].median('time') - \\\n",
    "                                        ls8_water_median).persist()\n",
    "\n",
    "ls8_rgb_floods = ls8_floods[['red', 'green', 'blue']].persist()"
   ]
  },
  {
   "cell_type": "markdown",
   "metadata": {},
   "source": [
    "### Sentinel-2"
   ]
  },
  {
   "cell_type": "code",
   "execution_count": 43,
   "metadata": {},
   "outputs": [
    {
     "name": "stdout",
     "output_type": "stream",
     "text": [
      "Using pixel quality parameters for Sentinel 2\n",
      "Finding datasets\n",
      "    s2_l2a\n",
      "Applying pixel quality/cloud mask\n",
      "Returning 199 time steps as a dask array\n"
     ]
    }
   ],
   "source": [
    "s2_data = load_ard(dc=dc, products=['s2_l2a'], \n",
    "                       measurements=[\n",
    "                           # Used by MNDWI, AWEI_ns, AWEI_sh\n",
    "                           'green', 'swir_1', \n",
    "                           # Used by AWEI_ns, AWEI_sh\n",
    "                           'nir', 'swir_2',\n",
    "                           # Used by AWEI_sh\n",
    "                           'blue',\n",
    "                           # Used by NDWI, TCW, WI2015\n",
    "                           'red'],\n",
    "                       time=time_range,\n",
    "                       **common_load_params).persist()\n",
    "s2_data_water_inds = s2_data\n",
    "s2_water_median = []\n",
    "water_inds = ['NDWI', 'AWEI_sh', 'AWEI_ns', 'MNDWI']\n",
    "for water_ind in water_inds:\n",
    "    s2_water_ind_data = calculate_indices(s2_data, index=water_ind, collection='c1')[water_ind]\n",
    "    s2_data_water_inds[water_ind] = s2_water_ind_data\n",
    "    s2_water_median.append(s2_water_ind_data.median('time'))\n",
    "s2_water_median = xr.merge(s2_water_median)\n",
    "\n",
    "s2_floods = xr.concat([s2_data_water_inds.sel(time=slice(*time_range_flood)) for time_range_flood in time_ranges_floods], dim='time')\n",
    "s2_water_floods = s2_floods[water_inds]\n",
    "s2_water_floods_minus_median = (s2_water_floods - s2_water_median).persist()\n",
    "s2_water_floods_median_minus_median = (s2_floods[water_inds].median('time') - \\\n",
    "                                       s2_water_median).persist()\n",
    "\n",
    "s2_rgb_floods = s2_floods[['red', 'green', 'blue']].persist()"
   ]
  },
  {
   "cell_type": "markdown",
   "metadata": {},
   "source": [
    "## Merge data"
   ]
  },
  {
   "cell_type": "code",
   "execution_count": 44,
   "metadata": {},
   "outputs": [],
   "source": [
    "water_floods_minus_median = xr.merge((ls_water_wofs_floods_minus_median, ls5_water_floods_minus_median,\n",
    "                                      ls8_water_floods_minus_median, s2_water_floods_minus_median))\n",
    "water_floods_minus_median = xr.concat([water_floods_minus_median.sel(time=slice(*time_range_flood)).mean('time') \n",
    "                                       for time_range_flood in time_ranges_floods], dim='time').compute().reindex({'time': eo4sd_hazard_map_times})"
   ]
  },
  {
   "cell_type": "code",
   "execution_count": 45,
   "metadata": {},
   "outputs": [],
   "source": [
    "# nrows = len(water_floods_minus_median.time)\n",
    "# ncols = len(water_floods_minus_median.data_vars)\n",
    "# fig, ax = plt.subplots(nrows, ncols, figsize=(6*ncols, 4*nrows))\n",
    "\n",
    "# for time_ind, time in enumerate(water_floods_minus_median.time):\n",
    "#     for data_var_ind, data_var in enumerate(water_floods_minus_median.data_vars):\n",
    "#         water_floods_minus_median[data_var].isel(time=time_ind).plot.imshow(ax=ax[time_ind, data_var_ind])\n",
    "# plt.tight_layout()\n",
    "# plt.show()"
   ]
  },
  {
   "cell_type": "markdown",
   "metadata": {},
   "source": [
    "**Median of water indices for flood dates minus medians for 2009 - 2019**"
   ]
  },
  {
   "cell_type": "code",
   "execution_count": 46,
   "metadata": {},
   "outputs": [],
   "source": [
    "if 'time' not in ls_water_wofs_floods_median_minus_median.dims:\n",
    "    ls_water_wofs_floods_median_minus_median = \\\n",
    "        ls_water_wofs_floods_median_minus_median.expand_dims({'time':[0]})\n",
    "if 'time' not in ls5_water_floods_median_minus_median.dims:\n",
    "    ls5_water_floods_median_minus_median = \\\n",
    "        ls5_water_floods_median_minus_median.expand_dims({'time':[1]})\n",
    "if 'time' not in ls8_water_floods_median_minus_median.dims:\n",
    "    ls8_water_floods_median_minus_median = \\\n",
    "        ls8_water_floods_median_minus_median.expand_dims({'time':[2]})\n",
    "if 'time' not in s2_water_floods_median_minus_median.dims:\n",
    "    s2_water_floods_median_minus_median = \\\n",
    "        s2_water_floods_median_minus_median.expand_dims({'time':[3]})"
   ]
  },
  {
   "cell_type": "code",
   "execution_count": 47,
   "metadata": {},
   "outputs": [],
   "source": [
    "water_floods_median_minus_median = \\\n",
    "    xr.merge((ls_water_wofs_floods_median_minus_median, ls5_water_floods_median_minus_median,\n",
    "              ls8_water_floods_median_minus_median, s2_water_floods_median_minus_median)).mean('time').compute()"
   ]
  },
  {
   "cell_type": "markdown",
   "metadata": {},
   "source": [
    "**Water for flood dates**"
   ]
  },
  {
   "cell_type": "code",
   "execution_count": 48,
   "metadata": {},
   "outputs": [],
   "source": [
    "water_floods = xr.merge((ls_water_wofs_floods, ls5_water_floods,\n",
    "                         ls8_water_floods, s2_water_floods))\n",
    "water_floods = xr.concat([water_floods.sel(time=slice(*time_range_flood)).mean('time') \n",
    "                          for time_range_flood in time_ranges_floods], dim='time').compute().reindex({'time': eo4sd_hazard_map_times})"
   ]
  },
  {
   "cell_type": "code",
   "execution_count": 49,
   "metadata": {},
   "outputs": [],
   "source": [
    "# nrows = len(water_floods.time)\n",
    "# ncols = len(water_floods.data_vars)\n",
    "# fig, ax = plt.subplots(nrows, ncols, figsize=(6*ncols, 4*nrows))\n",
    "\n",
    "# for time_ind, time in enumerate(water_floods.time):\n",
    "#     for data_var_ind, data_var in enumerate(water_floods.data_vars):\n",
    "#         water_floods[data_var].isel(time=time_ind).plot.imshow(ax=ax[time_ind, data_var_ind])\n",
    "# plt.tight_layout()\n",
    "# plt.show()"
   ]
  },
  {
   "cell_type": "code",
   "execution_count": 50,
   "metadata": {},
   "outputs": [],
   "source": [
    "rgb_floods = xr.merge((ls5_rgb_floods, ls8_rgb_floods, s2_rgb_floods))\n",
    "rgb_floods = xr.concat([rgb_floods.sel(time=slice(*time_range_flood)).mean('time') \n",
    "                          for time_range_flood in time_ranges_floods], dim='time').compute().reindex({'time': eo4sd_hazard_map_times})\n",
    "# Normalize RGB to [0,1].\n",
    "rgb_min, rgb_max = 0, 4000\n",
    "rgb_floods = (rgb_floods - rgb_min) / (rgb_max - rgb_min)\n",
    "rgb_floods = rgb_floods.where(rgb_floods<1, 1)"
   ]
  },
  {
   "cell_type": "markdown",
   "metadata": {},
   "source": [
    "## Mask out the ocean and lakes and obtain the flood hazard map as an xarray"
   ]
  },
  {
   "cell_type": "code",
   "execution_count": 51,
   "metadata": {},
   "outputs": [],
   "source": [
    "s2_land_mask = s2_water_floods.MNDWI.mean('time') < 0.1\n",
    "water_floods_minus_median = water_floods_minus_median.where(s2_land_mask)\n",
    "water_floods = water_floods.where(s2_land_mask)\n",
    "rgb_floods = rgb_floods.where(s2_land_mask)\n",
    "# water_floods_mean_minus_median = water_floods_mean_minus_median.where(s2_land_mask)\n",
    "water_floods_median_minus_median = water_floods_median_minus_median.where(s2_land_mask)"
   ]
  },
  {
   "cell_type": "code",
   "execution_count": 52,
   "metadata": {},
   "outputs": [
    {
     "name": "stdout",
     "output_type": "stream",
     "text": [
      "Rasterizing to match xarray.DataArray dimensions (106, 127)\n",
      "Rasterizing to match xarray.DataArray dimensions (106, 127)\n",
      "Rasterizing to match xarray.DataArray dimensions (106, 127)\n",
      "Rasterizing to match xarray.DataArray dimensions (106, 127)\n"
     ]
    }
   ],
   "source": [
    "from utils.deafrica_utils.deafrica_spatialtools import xr_rasterize\n",
    "\n",
    "flood_hazard_enc = {0:'No Risk', 1:'Low Risk', 2:'Medium Risk', 3:'High Risk'}\n",
    "flood_hazard_masks = \\\n",
    "{0: xr_rasterize(dakar_flood_hazard[dakar_flood_hazard['RISKCODE_H']==0], \n",
    "                 rgb_floods).astype(np.bool).where(s2_land_mask, False),\n",
    " 1: xr_rasterize(dakar_flood_hazard[dakar_flood_hazard['RISKCODE_H']==1], \n",
    "                 rgb_floods).astype(np.bool).where(s2_land_mask, False),\n",
    " 2: xr_rasterize(dakar_flood_hazard[dakar_flood_hazard['RISKCODE_H']==2], \n",
    "                 rgb_floods).astype(np.bool).where(s2_land_mask, False),\n",
    " 3: xr_rasterize(dakar_flood_hazard[dakar_flood_hazard['RISKCODE_H']==3], \n",
    "                 rgb_floods).astype(np.bool).where(s2_land_mask, False)}"
   ]
  },
  {
   "cell_type": "code",
   "execution_count": 53,
   "metadata": {},
   "outputs": [],
   "source": [
    "flood_hazard_map = None\n",
    "for val, mask in flood_hazard_masks.items():\n",
    "    if flood_hazard_map is None:\n",
    "        flood_hazard_map = xr.full_like(mask, val)\n",
    "    else:\n",
    "        flood_hazard_map = flood_hazard_map.where(~mask, val)\n",
    "flood_hazard_map = flood_hazard_map.where(s2_land_mask)"
   ]
  },
  {
   "cell_type": "markdown",
   "metadata": {},
   "source": [
    "## Show RGB and water indices for flood dates"
   ]
  },
  {
   "cell_type": "code",
   "execution_count": 54,
   "metadata": {},
   "outputs": [],
   "source": [
    "import matplotlib as mpl\n",
    "mpl.rcParams['figure.dpi'] = 400"
   ]
  },
  {
   "cell_type": "code",
   "execution_count": 55,
   "metadata": {},
   "outputs": [],
   "source": [
    "def create_flood_date_figs(dataset, base_file_name, time_ind, diff_median=False):\n",
    "    NROWS_PER_DATE = 2\n",
    "    nrows = NROWS_PER_DATE\n",
    "    ncols = int(np.ceil(len(dataset.data_vars)/NROWS_PER_DATE))\n",
    "    \n",
    "    fig, ax = plt.subplots(nrows, ncols, figsize=(7*ncols, 5*nrows))\n",
    "    \n",
    "    time = dataset.time[time_ind]\n",
    "    time_str = pd.to_datetime(time.values).strftime('%Y-%m-%d')\n",
    "    current_ax = ax[0, 0]\n",
    "    rgb_floods.isel(time=time_ind).to_array().plot.imshow(ax=current_ax, vmin=0, vmax=1)\n",
    "    current_ax.set_title(f'RGB ({time_str})')\n",
    "    for data_var_ind, data_var in enumerate(dataset.data_vars):\n",
    "        vmin = dataset[data_var].isel(time=time_ind).quantile(0.05).values \\\n",
    "               if not diff_median else 0\n",
    "        vmax = dataset[data_var].isel(time=time_ind).quantile(0.95).values\n",
    "        current_ax = ax[int((data_var_ind+1)/ncols), ((data_var_ind+1)%ncols)]\n",
    "        dataset[data_var].isel(time=time_ind).plot.imshow(ax=current_ax, cmap='Blues', vmin=vmin, vmax=vmax)\n",
    "        diff_median_text = '' if not diff_median else ' - minus median'\n",
    "        current_ax.set_title(f'{data_var}{diff_median_text} ({time_str})')\n",
    "    plt.tight_layout()\n",
    "    if not os.path.exists('images'):\n",
    "        os.mkdir('images')\n",
    "    plt.savefig(f'images/{base_file_name}_{time_ind}.png')\n",
    "    plt.clf()\n",
    "    return None"
   ]
  },
  {
   "cell_type": "code",
   "execution_count": 56,
   "metadata": {},
   "outputs": [
    {
     "data": {
      "text/plain": [
       "<Figure size 8400x4000 with 0 Axes>"
      ]
     },
     "metadata": {},
     "output_type": "display_data"
    },
    {
     "data": {
      "text/plain": [
       "<Figure size 8400x4000 with 0 Axes>"
      ]
     },
     "metadata": {},
     "output_type": "display_data"
    },
    {
     "data": {
      "text/plain": [
       "<Figure size 8400x4000 with 0 Axes>"
      ]
     },
     "metadata": {},
     "output_type": "display_data"
    },
    {
     "data": {
      "text/plain": [
       "<Figure size 8400x4000 with 0 Axes>"
      ]
     },
     "metadata": {},
     "output_type": "display_data"
    },
    {
     "data": {
      "text/plain": [
       "<Figure size 8400x4000 with 0 Axes>"
      ]
     },
     "metadata": {},
     "output_type": "display_data"
    },
    {
     "data": {
      "text/plain": [
       "<Figure size 8400x4000 with 0 Axes>"
      ]
     },
     "metadata": {},
     "output_type": "display_data"
    },
    {
     "data": {
      "text/plain": [
       "<Figure size 8400x4000 with 0 Axes>"
      ]
     },
     "metadata": {},
     "output_type": "display_data"
    },
    {
     "data": {
      "text/plain": [
       "<Figure size 8400x4000 with 0 Axes>"
      ]
     },
     "metadata": {},
     "output_type": "display_data"
    },
    {
     "data": {
      "text/plain": [
       "<Figure size 8400x4000 with 0 Axes>"
      ]
     },
     "metadata": {},
     "output_type": "display_data"
    }
   ],
   "source": [
    "from functools import partial\n",
    "create_flood_date_figs_rgb_water = \\\n",
    "    partial(create_flood_date_figs, water_floods, 'rgb_water_fig')\n",
    "\n",
    "for time_ind in range(len(water_floods.time)):\n",
    "    create_flood_date_figs_rgb_water(time_ind)"
   ]
  },
  {
   "cell_type": "markdown",
   "metadata": {},
   "source": [
    "## Show RGB and the difference of water indices for flood dates from their medians for the selected years"
   ]
  },
  {
   "cell_type": "code",
   "execution_count": 57,
   "metadata": {},
   "outputs": [
    {
     "data": {
      "text/plain": [
       "<Figure size 8400x4000 with 0 Axes>"
      ]
     },
     "metadata": {},
     "output_type": "display_data"
    },
    {
     "data": {
      "text/plain": [
       "<Figure size 8400x4000 with 0 Axes>"
      ]
     },
     "metadata": {},
     "output_type": "display_data"
    },
    {
     "data": {
      "text/plain": [
       "<Figure size 8400x4000 with 0 Axes>"
      ]
     },
     "metadata": {},
     "output_type": "display_data"
    },
    {
     "data": {
      "text/plain": [
       "<Figure size 8400x4000 with 0 Axes>"
      ]
     },
     "metadata": {},
     "output_type": "display_data"
    },
    {
     "data": {
      "text/plain": [
       "<Figure size 8400x4000 with 0 Axes>"
      ]
     },
     "metadata": {},
     "output_type": "display_data"
    },
    {
     "data": {
      "text/plain": [
       "<Figure size 8400x4000 with 0 Axes>"
      ]
     },
     "metadata": {},
     "output_type": "display_data"
    },
    {
     "data": {
      "text/plain": [
       "<Figure size 8400x4000 with 0 Axes>"
      ]
     },
     "metadata": {},
     "output_type": "display_data"
    },
    {
     "data": {
      "text/plain": [
       "<Figure size 8400x4000 with 0 Axes>"
      ]
     },
     "metadata": {},
     "output_type": "display_data"
    },
    {
     "data": {
      "text/plain": [
       "<Figure size 8400x4000 with 0 Axes>"
      ]
     },
     "metadata": {},
     "output_type": "display_data"
    }
   ],
   "source": [
    "create_flood_date_figs_rgb_water_minus_median = \\\n",
    "    partial(create_flood_date_figs, water_floods_minus_median, 'rgb_water_minus_median_fig')\n",
    "\n",
    "for time_ind in range(len(water_floods.time)):\n",
    "    create_flood_date_figs_rgb_water_minus_median(time_ind, diff_median=True)"
   ]
  },
  {
   "cell_type": "markdown",
   "metadata": {},
   "source": [
    "## Show medians of flood dates water indices minus medians for 2009-2019"
   ]
  },
  {
   "cell_type": "code",
   "execution_count": 58,
   "metadata": {},
   "outputs": [],
   "source": [
    "def create_flood_date_figs_agg(dataset, base_file_name, agg='mean'):\n",
    "    assert agg in ['mean', 'median'], \"The variable agg must be one of ['mean', 'median']\"\n",
    "    \n",
    "    NROWS_PER_DATE = 2\n",
    "    nrows = NROWS_PER_DATE\n",
    "    ncols = int(np.ceil(len(dataset.data_vars)/NROWS_PER_DATE))\n",
    "    \n",
    "    fig, ax = plt.subplots(nrows, ncols, figsize=(7*ncols, 5*nrows))\n",
    "    \n",
    "    current_ax = ax[0, 0]\n",
    "    flood_hazard_map.plot.imshow(ax=current_ax)\n",
    "    current_ax.set_title(f'Given Flood Hazard Map')\n",
    "    for data_var_ind, data_var in enumerate(dataset.data_vars):\n",
    "        vmin = 0\n",
    "        vmax = dataset[data_var].quantile(0.95).values\n",
    "        current_ax = ax[int((data_var_ind+1)/ncols), ((data_var_ind+1)%ncols)]\n",
    "        dataset[data_var].plot.imshow(ax=current_ax, cmap='Blues', vmin=vmin, vmax=vmax)\n",
    "        current_ax.set_title(f'{agg.capitalize()} of flood dates {data_var} - minus median')\n",
    "    plt.tight_layout()\n",
    "    if not os.path.exists('images'):\n",
    "        os.mkdir('images')\n",
    "    plt.savefig(f'images/{base_file_name}.png')\n",
    "    plt.clf()\n",
    "    return None"
   ]
  },
  {
   "cell_type": "code",
   "execution_count": 59,
   "metadata": {},
   "outputs": [
    {
     "data": {
      "text/plain": [
       "<Figure size 8400x4000 with 0 Axes>"
      ]
     },
     "metadata": {},
     "output_type": "display_data"
    }
   ],
   "source": [
    "create_flood_date_figs_agg(water_floods_median_minus_median, \n",
    "                           'haz_map_water_median_minus_median_fig', \n",
    "                           agg='median')"
   ]
  }
 ],
 "metadata": {
  "kernelspec": {
   "display_name": "Python 3",
   "language": "python",
   "name": "python3"
  },
  "language_info": {
   "codemirror_mode": {
    "name": "ipython",
    "version": 3
   },
   "file_extension": ".py",
   "mimetype": "text/x-python",
   "name": "python",
   "nbconvert_exporter": "python",
   "pygments_lexer": "ipython3",
   "version": "3.6.9"
  }
 },
 "nbformat": 4,
 "nbformat_minor": 4
}
